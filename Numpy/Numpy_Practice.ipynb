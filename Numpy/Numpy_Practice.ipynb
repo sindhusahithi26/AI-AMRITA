{
  "nbformat": 4,
  "nbformat_minor": 5,
  "metadata": {
    "kernelspec": {
      "display_name": "Python 3",
      "language": "python",
      "name": "python3"
    },
    "language_info": {
      "codemirror_mode": {
        "name": "ipython",
        "version": 3
      },
      "file_extension": ".py",
      "mimetype": "text/x-python",
      "name": "python",
      "nbconvert_exporter": "python",
      "pygments_lexer": "ipython3",
      "version": "3.9.0"
    },
    "colab": {
      "name": "Numpy-Practice.ipynb",
      "provenance": [],
      "include_colab_link": true
    }
  },
  "cells": [
    {
      "cell_type": "markdown",
      "metadata": {
        "id": "view-in-github",
        "colab_type": "text"
      },
      "source": [
        "<a href=\"https://colab.research.google.com/github/sindhusahithi26/AI-AMRITA/blob/main/Numpy/Numpy_Practice.ipynb\" target=\"_parent\"><img src=\"https://colab.research.google.com/assets/colab-badge.svg\" alt=\"Open In Colab\"/></a>"
      ]
    },
    {
      "cell_type": "code",
      "metadata": {
        "id": "4dd66ee2"
      },
      "source": [
        "import numpy as np"
      ],
      "id": "4dd66ee2",
      "execution_count": null,
      "outputs": []
    },
    {
      "cell_type": "code",
      "metadata": {
        "id": "2fa935ae",
        "outputId": "912c19f5-bd1b-4837-c725-69139b5815c4"
      },
      "source": [
        "myPythonList = [1,9,8,3]\n",
        "print(myPythonList)"
      ],
      "id": "2fa935ae",
      "execution_count": null,
      "outputs": [
        {
          "output_type": "stream",
          "text": [
            "[1, 9, 8, 3]\n"
          ],
          "name": "stdout"
        }
      ]
    },
    {
      "cell_type": "code",
      "metadata": {
        "id": "a953b7f5",
        "outputId": "6d8529a5-2f37-491c-e758-4ba0b6aa88b7"
      },
      "source": [
        "numpy_array_from_list = np.array(myPythonList)\n",
        "numpy_array_from_list"
      ],
      "id": "a953b7f5",
      "execution_count": null,
      "outputs": [
        {
          "output_type": "execute_result",
          "data": {
            "text/plain": [
              "array([1, 9, 8, 3])"
            ]
          },
          "metadata": {
            "tags": []
          },
          "execution_count": 4
        }
      ]
    },
    {
      "cell_type": "code",
      "metadata": {
        "id": "c6cb9821",
        "outputId": "6112b533-3900-40f6-e57a-73c7b81ca40c"
      },
      "source": [
        "a  = np.array([1,9,8,3])\n",
        "print(a)"
      ],
      "id": "c6cb9821",
      "execution_count": null,
      "outputs": [
        {
          "output_type": "stream",
          "text": [
            "[1 9 8 3]\n"
          ],
          "name": "stdout"
        }
      ]
    },
    {
      "cell_type": "code",
      "metadata": {
        "id": "ae5a9e20",
        "outputId": "7ca51f81-c100-488e-d0ce-530a20fef2f7"
      },
      "source": [
        "x=numpy_array_from_list + 10\n",
        "print(x)"
      ],
      "id": "ae5a9e20",
      "execution_count": null,
      "outputs": [
        {
          "output_type": "stream",
          "text": [
            "[11 19 18 13]\n"
          ],
          "name": "stdout"
        }
      ]
    },
    {
      "cell_type": "code",
      "metadata": {
        "id": "a4a211e7",
        "outputId": "0794aaef-e237-4243-d762-df48c19878d1"
      },
      "source": [
        "a  = np.array([1,2,3])\n",
        "print(a.shape)\n",
        "print(a.dtype)\n"
      ],
      "id": "a4a211e7",
      "execution_count": null,
      "outputs": [
        {
          "output_type": "stream",
          "text": [
            "(3,)\n",
            "int32\n"
          ],
          "name": "stdout"
        }
      ]
    },
    {
      "cell_type": "code",
      "metadata": {
        "id": "cf1d67d2",
        "outputId": "24ad0c7f-453a-4a3b-aa15-4c7c41ed96ca"
      },
      "source": [
        "b  = np.array([1.1,2.0,3.2])\n",
        "print(b.dtype)"
      ],
      "id": "cf1d67d2",
      "execution_count": null,
      "outputs": [
        {
          "output_type": "stream",
          "text": [
            "float64\n"
          ],
          "name": "stdout"
        }
      ]
    },
    {
      "cell_type": "code",
      "metadata": {
        "id": "bf6d8ebe",
        "outputId": "2ee5f795-9979-429a-8060-c0d7953dcb4a"
      },
      "source": [
        "c = np.array([(1,2,3),\n",
        "              (4,5,6)])\n",
        "print(c)\n",
        "print(c.shape)"
      ],
      "id": "bf6d8ebe",
      "execution_count": null,
      "outputs": [
        {
          "output_type": "stream",
          "text": [
            "[[1 2 3]\n",
            " [4 5 6]]\n",
            "(2, 3)\n"
          ],
          "name": "stdout"
        }
      ]
    },
    {
      "cell_type": "code",
      "metadata": {
        "id": "67224364",
        "outputId": "12d6ba6b-b909-447e-dea8-6743ec9d8a1b"
      },
      "source": [
        "d = np.array([[[1, 2,3],[4, 5, 6]],[[7, 8,9],[10, 11, 12]]])\n",
        "print(d.shape)\n",
        "(2, 2, 3)"
      ],
      "id": "67224364",
      "execution_count": null,
      "outputs": [
        {
          "output_type": "stream",
          "text": [
            "(2, 2, 3)\n"
          ],
          "name": "stdout"
        },
        {
          "output_type": "execute_result",
          "data": {
            "text/plain": [
              "(2, 2, 3)"
            ]
          },
          "metadata": {
            "tags": []
          },
          "execution_count": 10
        }
      ]
    },
    {
      "cell_type": "code",
      "metadata": {
        "id": "4785653b",
        "outputId": "ca9a6680-e000-45bd-8e64-49aeba5ca0f0"
      },
      "source": [
        "import numpy as np\n",
        "x=np.zeros((2,2), dtype=np.int16)\n",
        "print(x)"
      ],
      "id": "4785653b",
      "execution_count": null,
      "outputs": [
        {
          "output_type": "stream",
          "text": [
            "[[0 0]\n",
            " [0 0]]\n"
          ],
          "name": "stdout"
        }
      ]
    },
    {
      "cell_type": "code",
      "metadata": {
        "id": "c57b17db",
        "outputId": "678008b1-9923-458d-ffa5-b467bcbc8ee4"
      },
      "source": [
        "import numpy as np\n",
        "np.ones((1,2,3), dtype=np.int16)"
      ],
      "id": "c57b17db",
      "execution_count": null,
      "outputs": [
        {
          "output_type": "execute_result",
          "data": {
            "text/plain": [
              "array([[[1, 1, 1],\n",
              "        [1, 1, 1]]], dtype=int16)"
            ]
          },
          "metadata": {
            "tags": []
          },
          "execution_count": 12
        }
      ]
    },
    {
      "cell_type": "code",
      "metadata": {
        "id": "5cf94e5c",
        "outputId": "df775e7d-05f7-4b8d-a19d-058bb0816e5b"
      },
      "source": [
        "import numpy as np\n",
        "e  = np.array([(1,2,3), (4,5,6)])\n",
        "print(e)\n",
        "e.reshape(3,2)"
      ],
      "id": "5cf94e5c",
      "execution_count": null,
      "outputs": [
        {
          "output_type": "stream",
          "text": [
            "[[1 2 3]\n",
            " [4 5 6]]\n"
          ],
          "name": "stdout"
        },
        {
          "output_type": "execute_result",
          "data": {
            "text/plain": [
              "array([[1, 2],\n",
              "       [3, 4],\n",
              "       [5, 6]])"
            ]
          },
          "metadata": {
            "tags": []
          },
          "execution_count": 13
        }
      ]
    },
    {
      "cell_type": "code",
      "metadata": {
        "id": "c962745e",
        "outputId": "ba50265e-cbfa-4c2c-c2f7-3f6e165f6884"
      },
      "source": [
        "e.flatten()"
      ],
      "id": "c962745e",
      "execution_count": null,
      "outputs": [
        {
          "output_type": "execute_result",
          "data": {
            "text/plain": [
              "array([1, 2, 3, 4, 5, 6])"
            ]
          },
          "metadata": {
            "tags": []
          },
          "execution_count": 14
        }
      ]
    },
    {
      "cell_type": "code",
      "metadata": {
        "id": "d9d97536",
        "outputId": "cebf6768-e285-4356-9e35-957ec1c61cd3"
      },
      "source": [
        "import numpy as np\n",
        "f = np.array([1,2,3])\n",
        "g = np.array([4,5,6])\n",
        "\n",
        "print('Horizontal Append:', np.hstack((f, g)))"
      ],
      "id": "d9d97536",
      "execution_count": null,
      "outputs": [
        {
          "output_type": "stream",
          "text": [
            "Horizontal Append: [1 2 3 4 5 6]\n"
          ],
          "name": "stdout"
        }
      ]
    },
    {
      "cell_type": "code",
      "metadata": {
        "id": "2b6ee252",
        "outputId": "4db4fa78-e3b0-4488-fe06-59ff4a5be98e"
      },
      "source": [
        "import numpy as np\n",
        "f = np.array([1,2,3])\n",
        "g = np.array([4,5,6])\n",
        "\n",
        "print('Vertical Append:', np.vstack((f, g)))"
      ],
      "id": "2b6ee252",
      "execution_count": null,
      "outputs": [
        {
          "output_type": "stream",
          "text": [
            "Vertical Append: [[1 2 3]\n",
            " [4 5 6]]\n"
          ],
          "name": "stdout"
        }
      ]
    },
    {
      "cell_type": "code",
      "metadata": {
        "id": "6c5a9f02",
        "outputId": "5d1712a9-a1af-43b7-d9f3-cb707761ef88"
      },
      "source": [
        "normal_array = np.random.normal(5, 0.5, 10)\n",
        "print(normal_array)"
      ],
      "id": "6c5a9f02",
      "execution_count": null,
      "outputs": [
        {
          "output_type": "stream",
          "text": [
            "[4.09428802 4.02319501 3.99024926 4.27195676 4.95471312 4.93397138\n",
            " 5.10241076 5.08759851 5.15255162 4.60171479]\n"
          ],
          "name": "stdout"
        }
      ]
    },
    {
      "cell_type": "code",
      "metadata": {
        "id": "445e694a",
        "outputId": "57208c61-5878-40b6-d049-490a32d75612"
      },
      "source": [
        "A = np.matrix(np.ones((4,4)))\t\t\n",
        "np.array(A)[2]=2  #immutable\n",
        "print(A)"
      ],
      "id": "445e694a",
      "execution_count": null,
      "outputs": [
        {
          "output_type": "stream",
          "text": [
            "[[1. 1. 1. 1.]\n",
            " [1. 1. 1. 1.]\n",
            " [1. 1. 1. 1.]\n",
            " [1. 1. 1. 1.]]\n"
          ],
          "name": "stdout"
        }
      ]
    },
    {
      "cell_type": "code",
      "metadata": {
        "id": "b24ce4fa",
        "outputId": "dd4c6952-b859-47b4-b843-f5a02f11e32e"
      },
      "source": [
        "np.asarray(A)[2]=2\n",
        "print(A)"
      ],
      "id": "b24ce4fa",
      "execution_count": null,
      "outputs": [
        {
          "output_type": "stream",
          "text": [
            "[[1. 1. 1. 1.]\n",
            " [1. 1. 1. 1.]\n",
            " [2. 2. 2. 2.]\n",
            " [1. 1. 1. 1.]]\n"
          ],
          "name": "stdout"
        }
      ]
    },
    {
      "cell_type": "code",
      "metadata": {
        "id": "089b939c",
        "outputId": "14909e92-3b8d-46ff-dca3-5d4586305c4f"
      },
      "source": [
        "np.arange(1, 11)\t"
      ],
      "id": "089b939c",
      "execution_count": null,
      "outputs": [
        {
          "output_type": "execute_result",
          "data": {
            "text/plain": [
              "array([ 1,  2,  3,  4,  5,  6,  7,  8,  9, 10])"
            ]
          },
          "metadata": {
            "tags": []
          },
          "execution_count": 21
        }
      ]
    },
    {
      "cell_type": "code",
      "metadata": {
        "id": "1aa2a0d5",
        "outputId": "e51d8c56-2450-48d8-f329-6d2c2a7a0dc9"
      },
      "source": [
        "np.arange(1, 14, 4)"
      ],
      "id": "1aa2a0d5",
      "execution_count": null,
      "outputs": [
        {
          "output_type": "execute_result",
          "data": {
            "text/plain": [
              "array([ 1,  5,  9, 13])"
            ]
          },
          "metadata": {
            "tags": []
          },
          "execution_count": 22
        }
      ]
    },
    {
      "cell_type": "code",
      "metadata": {
        "id": "f985dcda",
        "outputId": "9d544aa1-2482-418a-a0df-5bca8ca0de0a"
      },
      "source": [
        "import numpy as np\n",
        "np.linspace(1.0, 10.0, num=20)"
      ],
      "id": "f985dcda",
      "execution_count": null,
      "outputs": [
        {
          "output_type": "execute_result",
          "data": {
            "text/plain": [
              "array([ 1.        ,  1.47368421,  1.94736842,  2.42105263,  2.89473684,\n",
              "        3.36842105,  3.84210526,  4.31578947,  4.78947368,  5.26315789,\n",
              "        5.73684211,  6.21052632,  6.68421053,  7.15789474,  7.63157895,\n",
              "        8.10526316,  8.57894737,  9.05263158,  9.52631579, 10.        ])"
            ]
          },
          "metadata": {
            "tags": []
          },
          "execution_count": 23
        }
      ]
    },
    {
      "cell_type": "code",
      "metadata": {
        "id": "81a069a0",
        "outputId": "8bfc369b-2646-4622-baaf-f1b6e6afed5a"
      },
      "source": [
        "np.linspace(1.0, 5.0, num=5, endpoint=False)"
      ],
      "id": "81a069a0",
      "execution_count": null,
      "outputs": [
        {
          "output_type": "execute_result",
          "data": {
            "text/plain": [
              "array([1. , 1.8, 2.6, 3.4, 4.2])"
            ]
          },
          "metadata": {
            "tags": []
          },
          "execution_count": 25
        }
      ]
    },
    {
      "cell_type": "code",
      "metadata": {
        "id": "59f11462",
        "outputId": "f2adc2f2-5798-4c6c-c84e-90760ffc5f0b"
      },
      "source": [
        "np.logspace(3.0, 4.0, num=4)"
      ],
      "id": "59f11462",
      "execution_count": null,
      "outputs": [
        {
          "output_type": "execute_result",
          "data": {
            "text/plain": [
              "array([ 1000.        ,  2154.43469003,  4641.58883361, 10000.        ])"
            ]
          },
          "metadata": {
            "tags": []
          },
          "execution_count": 26
        }
      ]
    },
    {
      "cell_type": "code",
      "metadata": {
        "id": "a9c17cce",
        "outputId": "169466fd-a202-4a07-8450-6d1fcda21ae7"
      },
      "source": [
        "x = np.array([1,2,3], dtype=np.complex128)\n",
        "x.itemsize\t"
      ],
      "id": "a9c17cce",
      "execution_count": null,
      "outputs": [
        {
          "output_type": "execute_result",
          "data": {
            "text/plain": [
              "16"
            ]
          },
          "metadata": {
            "tags": []
          },
          "execution_count": 27
        }
      ]
    },
    {
      "cell_type": "code",
      "metadata": {
        "id": "3b24486b",
        "outputId": "87df4257-183b-411f-8d07-8724648a7a11"
      },
      "source": [
        "## First column\n",
        "print('First row:', e[0])\n",
        "\n",
        "## Second col\n",
        "print('Second row:', e[1])"
      ],
      "id": "3b24486b",
      "execution_count": null,
      "outputs": [
        {
          "output_type": "stream",
          "text": [
            "First row: [1 2 3]\n",
            "Second row: [4 5 6]\n"
          ],
          "name": "stdout"
        }
      ]
    },
    {
      "cell_type": "code",
      "metadata": {
        "id": "4ca73d7a",
        "outputId": "4d50ac09-68b6-44e1-9ddb-fbc653090dad"
      },
      "source": [
        "print('Second column:', e[:,1])\t"
      ],
      "id": "4ca73d7a",
      "execution_count": null,
      "outputs": [
        {
          "output_type": "stream",
          "text": [
            "Second column: [2 5]\n"
          ],
          "name": "stdout"
        }
      ]
    },
    {
      "cell_type": "code",
      "metadata": {
        "id": "a321e1b8",
        "outputId": "32f8c6fa-bb5e-4622-dc58-acb2a40dd89d"
      },
      "source": [
        "print(e[1, :2])"
      ],
      "id": "a321e1b8",
      "execution_count": null,
      "outputs": [
        {
          "output_type": "stream",
          "text": [
            "[4 5]\n"
          ],
          "name": "stdout"
        }
      ]
    },
    {
      "cell_type": "code",
      "metadata": {
        "id": "74496aa9",
        "outputId": "1ca91d8c-c44c-49f6-f155-09e82c1c4aa6"
      },
      "source": [
        "import numpy as np\n",
        "normal_array = np.random.normal(5, 0.5, 10)\n",
        "print(normal_array)\t"
      ],
      "id": "74496aa9",
      "execution_count": null,
      "outputs": [
        {
          "output_type": "stream",
          "text": [
            "[3.95788309 5.05972603 4.82248317 4.89765649 5.24265247 3.75256129\n",
            " 5.50175557 4.75772891 5.02266628 4.87312536]\n"
          ],
          "name": "stdout"
        }
      ]
    },
    {
      "cell_type": "code",
      "metadata": {
        "id": "06a62f2e",
        "outputId": "13dd7038-a916-4493-c9bf-d617b452644c"
      },
      "source": [
        "### Min \n",
        "print(np.min(normal_array))\n",
        "\n",
        "### Max \n",
        "print(np.max(normal_array))\n",
        "\n",
        "### Mean \n",
        "print(np.mean(normal_array))\n",
        "\n",
        "### Median\n",
        "print(np.median(normal_array))\n",
        "\n",
        "### Sd\n",
        "print(np.std(normal_array))"
      ],
      "id": "06a62f2e",
      "execution_count": null,
      "outputs": [
        {
          "output_type": "stream",
          "text": [
            "3.7525612852766956\n",
            "5.501755574975822\n",
            "4.788823865372761\n",
            "4.885390925147945\n",
            "0.5126066822668953\n"
          ],
          "name": "stdout"
        }
      ]
    },
    {
      "cell_type": "code",
      "metadata": {
        "id": "a9d6489c",
        "outputId": "53813c93-31aa-41c4-aea1-e16cbe68ee34"
      },
      "source": [
        "## Linear algebra\n",
        "### Dot product: product of two arrays\n",
        "f = np.array([1,2])\n",
        "g = np.array([4,5])\n",
        "### 1*4+2*5\n",
        "np.dot(f, g)"
      ],
      "id": "a9d6489c",
      "execution_count": null,
      "outputs": [
        {
          "output_type": "execute_result",
          "data": {
            "text/plain": [
              "14"
            ]
          },
          "metadata": {
            "tags": []
          },
          "execution_count": 33
        }
      ]
    },
    {
      "cell_type": "code",
      "metadata": {
        "id": "6eb0621d",
        "outputId": "6dc01d2e-6388-45be-d82d-95f2eda04c28"
      },
      "source": [
        "### Matmul: matruc product of two arrays\n",
        "h = [[1,2],[3,4]] \n",
        "i = [[5,6],[7,8]] \n",
        "### 1*5+2*7 = 19\n",
        "np.matmul(h, i)"
      ],
      "id": "6eb0621d",
      "execution_count": null,
      "outputs": [
        {
          "output_type": "execute_result",
          "data": {
            "text/plain": [
              "array([[19, 22],\n",
              "       [43, 50]])"
            ]
          },
          "metadata": {
            "tags": []
          },
          "execution_count": 34
        }
      ]
    },
    {
      "cell_type": "code",
      "metadata": {
        "id": "4a6f2503",
        "outputId": "57f8c604-520f-4edc-8958-7cbf95b606d3"
      },
      "source": [
        "# Taking a 3 * 3 matrix\n",
        "A = np.array([[6, 1, 1],\n",
        "              [4, -2, 5],\n",
        "              [2, 8, 7]])\n",
        "  \n",
        "# Calculating the inverse of the matrix\n",
        "print(np.linalg.inv(A))"
      ],
      "id": "4a6f2503",
      "execution_count": null,
      "outputs": [
        {
          "output_type": "stream",
          "text": [
            "[[ 0.17647059 -0.00326797 -0.02287582]\n",
            " [ 0.05882353 -0.13071895  0.08496732]\n",
            " [-0.11764706  0.1503268   0.05228758]]\n"
          ],
          "name": "stdout"
        }
      ]
    },
    {
      "cell_type": "code",
      "metadata": {
        "id": "71760542",
        "outputId": "c0cda295-d279-44d2-ae65-169e70bbdf8b"
      },
      "source": [
        "# creating a 2X2 Numpy matrix\n",
        "n_array = np.array([[50, 29], [30, 44]])\n",
        "  \n",
        "# Displaying the Matrix\n",
        "print(\"Numpy Matrix is:\")\n",
        "print(n_array)\n",
        "  \n",
        "# calculating the determinant of matrix\n",
        "det = np.linalg.det(n_array)\n",
        "  \n",
        "print(\"\\nDeterminant of given 2X2 matrix:\")\n",
        "print(int(det))"
      ],
      "id": "71760542",
      "execution_count": null,
      "outputs": [
        {
          "output_type": "stream",
          "text": [
            "Numpy Matrix is:\n",
            "[[50 29]\n",
            " [30 44]]\n",
            "\n",
            "Determinant of given 2X2 matrix:\n",
            "1330\n"
          ],
          "name": "stdout"
        }
      ]
    },
    {
      "cell_type": "code",
      "metadata": {
        "id": "1008ecb5",
        "outputId": "c185631c-b1f6-4273-83b7-fae376ee92d0"
      },
      "source": [
        "# Let's create a square matrix (NxN matrix)\n",
        "mx = np.array([[1,1,1],[0,1,2],[1,5,3]])\n",
        "\n",
        "# Let's get rank of matrix \n",
        "np.linalg.matrix_rank(mx)"
      ],
      "id": "1008ecb5",
      "execution_count": null,
      "outputs": [
        {
          "output_type": "execute_result",
          "data": {
            "text/plain": [
              "3"
            ]
          },
          "metadata": {
            "tags": []
          },
          "execution_count": 37
        }
      ]
    },
    {
      "cell_type": "code",
      "metadata": {
        "id": "3a8eda9f",
        "outputId": "6c854bba-6d4f-4883-879b-a9b295da7c5c"
      },
      "source": [
        "example_matrix = np.array([\n",
        "  [1,2,3,4],\n",
        "  [5,6,7,8],\n",
        "  [9,10,11,12],\n",
        "  [13,14,15,16]\n",
        "])\n",
        "eigenvalues, eigenvectors = np.linalg.eig(example_matrix)\n",
        "print(eigenvalues, eigenvectors)"
      ],
      "id": "3a8eda9f",
      "execution_count": null,
      "outputs": [
        {
          "output_type": "stream",
          "text": [
            "[ 3.62093727e+01 -2.20937271e+00 -3.18863232e-15 -1.34840081e-16] [[-0.15115432  0.72704996  0.50370019 -0.06456091]\n",
            " [-0.34923733  0.28320876 -0.8319577  -0.31932112]\n",
            " [-0.54732033 -0.16063243  0.15281481  0.83232496]\n",
            " [-0.74540333 -0.60447363  0.17544269 -0.44844294]]\n"
          ],
          "name": "stdout"
        }
      ]
    },
    {
      "cell_type": "code",
      "metadata": {
        "id": "6a44e898",
        "outputId": "d1b8dbdc-00d4-4cb3-d1ad-b89df9c41c05"
      },
      "source": [
        "gfg = np.matrix('[6, 2; 3, 4]')\n",
        "         \n",
        "# applying matrix.diagonal() method\n",
        "diag = gfg.diagonal()\n",
        "   \n",
        "print(diag)"
      ],
      "id": "6a44e898",
      "execution_count": null,
      "outputs": [
        {
          "output_type": "stream",
          "text": [
            "[[6 4]]\n"
          ],
          "name": "stdout"
        }
      ]
    },
    {
      "cell_type": "code",
      "metadata": {
        "id": "8b05d86a",
        "outputId": "9fa33785-8bf9-4410-b3c7-573635784fa2"
      },
      "source": [
        "# make matrix with numpy\n",
        "gfg = np.matrix('[4, 1; 12, 3]')\n",
        "              \n",
        "# applying matrix.transpose() method\n",
        "trans = gfg.transpose()\n",
        "    \n",
        "print(trans) "
      ],
      "id": "8b05d86a",
      "execution_count": null,
      "outputs": [
        {
          "output_type": "stream",
          "text": [
            "[[ 4 12]\n",
            " [ 1  3]]\n"
          ],
          "name": "stdout"
        }
      ]
    },
    {
      "cell_type": "code",
      "metadata": {
        "id": "383d1464",
        "outputId": "aa0d346e-c6df-4788-ec3e-16a178b2ed3b"
      },
      "source": [
        "# make matrix with numpy\n",
        "gfg = np.matrix('[4, 1; 12, 3]')\n",
        "              \n",
        "# applying matrix.trace() method\n",
        "tracem = gfg.trace()\n",
        "    \n",
        "print(tracem)"
      ],
      "id": "383d1464",
      "execution_count": null,
      "outputs": [
        {
          "output_type": "stream",
          "text": [
            "[[7]]\n"
          ],
          "name": "stdout"
        }
      ]
    }
  ]
}